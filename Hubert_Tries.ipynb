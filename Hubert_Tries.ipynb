{
 "cells": [
  {
   "cell_type": "code",
   "execution_count": 1,
   "metadata": {},
   "outputs": [],
   "source": [
    "import import_ipynb\n",
    "import data_preprocessing\n",
    "\n",
    "# Update the path to the correct location of the file\n",
    "file_path = '.'\n",
    "\n",
    "# Now you can use functions and variables from data_preprocessing\n",
    "# For example, if data_preprocessing has a function named preprocess_data, you can call it like this:\n",
    "# processed_data = data_preprocessing.preprocess_data(raw_data)"
   ]
  },
  {
   "cell_type": "code",
   "execution_count": 2,
   "metadata": {},
   "outputs": [],
   "source": [
    "\n",
    "import pandas as pd\n",
    "from pathlib import Path\n",
    "import pyarrow.parquet as pq\n",
    "from dataclasses import dataclass\n",
    "import matplotlib.pyplot as plt\n",
    "import seaborn as sns\n",
    "import numpy as np\n",
    "from sklearn.metrics import f1_score, accuracy_score, precision_score, recall_score, classification_report, confusion_matrix, ConfusionMatrixDisplay, fbeta_score\n",
    "from sklearn.decomposition import PCA\n",
    "from sklearn.preprocessing import StandardScaler\n",
    "from sklearn.ensemble import IsolationForest\n",
    "\n",
    "import torch\n",
    "import torch.nn as nn\n",
    "import torch.optim as optim\n",
    "from sklearn.model_selection import train_test_split\n",
    "from sklearn.preprocessing import StandardScaler\n",
    "from sklearn.metrics import roc_curve, roc_auc_score\n",
    "\n",
    "import warnings\n",
    "warnings.filterwarnings(\"ignore\")\n"
   ]
  },
  {
   "cell_type": "markdown",
   "metadata": {},
   "source": [
    "### Code from josh_models.ipynb\n"
   ]
  },
  {
   "cell_type": "code",
   "execution_count": 3,
   "metadata": {},
   "outputs": [],
   "source": [
    "# training data\n",
    "u4_train_equil_turbine = data_preprocessing.u4_train_equil_turbine\n",
    "u4_train_equil_pump = data_preprocessing.u4_train_equil_pump\n",
    "u5_train_equil_turbine = data_preprocessing.u5_train_equil_turbine\n",
    "u5_train_equil_pump = data_preprocessing.u5_train_equil_pump\n",
    "u6_train_equil_turbine = data_preprocessing.u6_train_equil_turbine\n",
    "u6_train_equil_pump = data_preprocessing.u6_train_equil_pump\n",
    "\n",
    "# synethetic test sets\n",
    "u5_s01_equil_turbine = data_preprocessing.u5_s01_equil_turbine\n",
    "u5_s01_equil_pump = data_preprocessing.u5_s01_equil_pump\n",
    "u5_s02_equil_turbine = data_preprocessing.u5_s02_equil_turbine\n",
    "u5_s02_equil_pump = data_preprocessing.u5_s02_equil_pump\n",
    "u6_s01_equil_turbine = data_preprocessing.u6_s01_equil_turbine\n",
    "u6_s01_equil_pump = data_preprocessing.u6_s01_equil_pump\n",
    "u6_s02_equil_turbine = data_preprocessing.u6_s02_equil_turbine\n",
    "u6_s02_equil_pump = data_preprocessing.u6_s02_equil_pump\n",
    "\n",
    "# real test sets\n",
    "u4_test_equil_turbine = data_preprocessing.u4_test_equil_turbine\n",
    "u4_test_equil_pump = data_preprocessing.u4_test_equil_pump\n",
    "u5_test_equil_turbine = data_preprocessing.u5_test_equil_turbine\n",
    "u5_test_equil_pump = data_preprocessing.u5_test_equil_pump\n",
    "u6_test_equil_turbine = data_preprocessing.u6_test_equil_turbine\n",
    "u6_test_equil_pump = data_preprocessing.u6_test_equil_pump"
   ]
  },
  {
   "cell_type": "markdown",
   "metadata": {},
   "source": [
    "## Import Dependencies :"
   ]
  },
  {
   "cell_type": "code",
   "execution_count": 4,
   "metadata": {},
   "outputs": [
    {
     "name": "stdout",
     "output_type": "stream",
     "text": [
      "Requirement already satisfied: torch in c:\\users\\turquin\\miniconda3\\envs\\civil-426\\lib\\site-packages (2.4.1)Note: you may need to restart the kernel to use updated packages.\n",
      "\n",
      "Requirement already satisfied: torchvision in c:\\users\\turquin\\miniconda3\\envs\\civil-426\\lib\\site-packages (0.19.1)\n",
      "Requirement already satisfied: numpy in c:\\users\\turquin\\miniconda3\\envs\\civil-426\\lib\\site-packages (2.0.2)\n",
      "Requirement already satisfied: tqdm in c:\\users\\turquin\\miniconda3\\envs\\civil-426\\lib\\site-packages (4.66.5)\n",
      "Requirement already satisfied: filelock in c:\\users\\turquin\\miniconda3\\envs\\civil-426\\lib\\site-packages (from torch) (3.16.1)\n",
      "Requirement already satisfied: typing-extensions>=4.8.0 in c:\\users\\turquin\\miniconda3\\envs\\civil-426\\lib\\site-packages (from torch) (4.12.2)\n",
      "Requirement already satisfied: sympy in c:\\users\\turquin\\miniconda3\\envs\\civil-426\\lib\\site-packages (from torch) (1.13.3)\n",
      "Requirement already satisfied: networkx in c:\\users\\turquin\\miniconda3\\envs\\civil-426\\lib\\site-packages (from torch) (3.3)\n",
      "Requirement already satisfied: jinja2 in c:\\users\\turquin\\miniconda3\\envs\\civil-426\\lib\\site-packages (from torch) (3.1.4)\n",
      "Requirement already satisfied: fsspec in c:\\users\\turquin\\miniconda3\\envs\\civil-426\\lib\\site-packages (from torch) (2024.9.0)\n",
      "Requirement already satisfied: setuptools in c:\\users\\turquin\\miniconda3\\envs\\civil-426\\lib\\site-packages (from torch) (75.1.0)\n",
      "Requirement already satisfied: pillow!=8.3.*,>=5.3.0 in c:\\users\\turquin\\miniconda3\\envs\\civil-426\\lib\\site-packages (from torchvision) (10.4.0)\n",
      "Requirement already satisfied: colorama in c:\\users\\turquin\\miniconda3\\envs\\civil-426\\lib\\site-packages (from tqdm) (0.4.6)\n",
      "Requirement already satisfied: MarkupSafe>=2.0 in c:\\users\\turquin\\miniconda3\\envs\\civil-426\\lib\\site-packages (from jinja2->torch) (2.1.5)\n",
      "Requirement already satisfied: mpmath<1.4,>=1.1.0 in c:\\users\\turquin\\miniconda3\\envs\\civil-426\\lib\\site-packages (from sympy->torch) (1.3.0)\n",
      "Requirement already satisfied: librosa in c:\\users\\turquin\\miniconda3\\envs\\civil-426\\lib\\site-packages (0.10.2.post1)\n",
      "Requirement already satisfied: audioread>=2.1.9 in c:\\users\\turquin\\miniconda3\\envs\\civil-426\\lib\\site-packages (from librosa) (3.0.1)\n",
      "Requirement already satisfied: numpy!=1.22.0,!=1.22.1,!=1.22.2,>=1.20.3 in c:\\users\\turquin\\miniconda3\\envs\\civil-426\\lib\\site-packages (from librosa) (2.0.2)\n",
      "Requirement already satisfied: scipy>=1.2.0 in c:\\users\\turquin\\miniconda3\\envs\\civil-426\\lib\\site-packages (from librosa) (1.14.1)\n",
      "Requirement already satisfied: scikit-learn>=0.20.0 in c:\\users\\turquin\\miniconda3\\envs\\civil-426\\lib\\site-packages (from librosa) (1.5.2)\n",
      "Requirement already satisfied: joblib>=0.14 in c:\\users\\turquin\\miniconda3\\envs\\civil-426\\lib\\site-packages (from librosa) (1.4.2)\n",
      "Requirement already satisfied: decorator>=4.3.0 in c:\\users\\turquin\\miniconda3\\envs\\civil-426\\lib\\site-packages (from librosa) (5.1.1)\n",
      "Requirement already satisfied: numba>=0.51.0 in c:\\users\\turquin\\miniconda3\\envs\\civil-426\\lib\\site-packages (from librosa) (0.60.0)\n",
      "Requirement already satisfied: soundfile>=0.12.1 in c:\\users\\turquin\\miniconda3\\envs\\civil-426\\lib\\site-packages (from librosa) (0.12.1)\n",
      "Requirement already satisfied: pooch>=1.1 in c:\\users\\turquin\\miniconda3\\envs\\civil-426\\lib\\site-packages (from librosa) (1.8.2)\n",
      "Requirement already satisfied: soxr>=0.3.2 in c:\\users\\turquin\\miniconda3\\envs\\civil-426\\lib\\site-packages (from librosa) (0.5.0.post1)\n",
      "Requirement already satisfied: typing-extensions>=4.1.1 in c:\\users\\turquin\\miniconda3\\envs\\civil-426\\lib\\site-packages (from librosa) (4.12.2)\n",
      "Requirement already satisfied: lazy-loader>=0.1 in c:\\users\\turquin\\miniconda3\\envs\\civil-426\\lib\\site-packages (from librosa) (0.4)\n",
      "Requirement already satisfied: msgpack>=1.0 in c:\\users\\turquin\\miniconda3\\envs\\civil-426\\lib\\site-packages (from librosa) (1.1.0)\n",
      "Requirement already satisfied: packaging in c:\\users\\turquin\\miniconda3\\envs\\civil-426\\lib\\site-packages (from lazy-loader>=0.1->librosa) (24.1)\n",
      "Requirement already satisfied: llvmlite<0.44,>=0.43.0dev0 in c:\\users\\turquin\\miniconda3\\envs\\civil-426\\lib\\site-packages (from numba>=0.51.0->librosa) (0.43.0)\n",
      "Requirement already satisfied: platformdirs>=2.5.0 in c:\\users\\turquin\\miniconda3\\envs\\civil-426\\lib\\site-packages (from pooch>=1.1->librosa) (4.3.6)\n",
      "Requirement already satisfied: requests>=2.19.0 in c:\\users\\turquin\\miniconda3\\envs\\civil-426\\lib\\site-packages (from pooch>=1.1->librosa) (2.32.3)\n",
      "Requirement already satisfied: threadpoolctl>=3.1.0 in c:\\users\\turquin\\miniconda3\\envs\\civil-426\\lib\\site-packages (from scikit-learn>=0.20.0->librosa) (3.5.0)\n",
      "Requirement already satisfied: cffi>=1.0 in c:\\users\\turquin\\miniconda3\\envs\\civil-426\\lib\\site-packages (from soundfile>=0.12.1->librosa) (1.17.1)\n",
      "Requirement already satisfied: pycparser in c:\\users\\turquin\\miniconda3\\envs\\civil-426\\lib\\site-packages (from cffi>=1.0->soundfile>=0.12.1->librosa) (2.22)\n",
      "Requirement already satisfied: charset-normalizer<4,>=2 in c:\\users\\turquin\\miniconda3\\envs\\civil-426\\lib\\site-packages (from requests>=2.19.0->pooch>=1.1->librosa) (3.3.2)\n",
      "Requirement already satisfied: idna<4,>=2.5 in c:\\users\\turquin\\miniconda3\\envs\\civil-426\\lib\\site-packages (from requests>=2.19.0->pooch>=1.1->librosa) (3.10)\n",
      "Requirement already satisfied: urllib3<3,>=1.21.1 in c:\\users\\turquin\\miniconda3\\envs\\civil-426\\lib\\site-packages (from requests>=2.19.0->pooch>=1.1->librosa) (2.2.3)\n",
      "Requirement already satisfied: certifi>=2017.4.17 in c:\\users\\turquin\\miniconda3\\envs\\civil-426\\lib\\site-packages (from requests>=2.19.0->pooch>=1.1->librosa) (2024.8.30)\n",
      "Note: you may need to restart the kernel to use updated packages.\n",
      "Requirement already satisfied: matplotlib in c:\\users\\turquin\\miniconda3\\envs\\civil-426\\lib\\site-packages (3.9.2)\n",
      "Requirement already satisfied: contourpy>=1.0.1 in c:\\users\\turquin\\miniconda3\\envs\\civil-426\\lib\\site-packages (from matplotlib) (1.3.0)\n",
      "Requirement already satisfied: cycler>=0.10 in c:\\users\\turquin\\miniconda3\\envs\\civil-426\\lib\\site-packages (from matplotlib) (0.12.1)\n",
      "Requirement already satisfied: fonttools>=4.22.0 in c:\\users\\turquin\\miniconda3\\envs\\civil-426\\lib\\site-packages (from matplotlib) (4.54.1)\n",
      "Requirement already satisfied: kiwisolver>=1.3.1 in c:\\users\\turquin\\miniconda3\\envs\\civil-426\\lib\\site-packages (from matplotlib) (1.4.7)\n",
      "Requirement already satisfied: numpy>=1.23 in c:\\users\\turquin\\miniconda3\\envs\\civil-426\\lib\\site-packages (from matplotlib) (2.0.2)\n",
      "Requirement already satisfied: packaging>=20.0 in c:\\users\\turquin\\miniconda3\\envs\\civil-426\\lib\\site-packages (from matplotlib) (24.1)\n",
      "Requirement already satisfied: pillow>=8 in c:\\users\\turquin\\miniconda3\\envs\\civil-426\\lib\\site-packages (from matplotlib) (10.4.0)\n",
      "Requirement already satisfied: pyparsing>=2.3.1 in c:\\users\\turquin\\miniconda3\\envs\\civil-426\\lib\\site-packages (from matplotlib) (3.1.4)\n",
      "Requirement already satisfied: python-dateutil>=2.7 in c:\\users\\turquin\\miniconda3\\envs\\civil-426\\lib\\site-packages (from matplotlib) (2.9.0.post0)\n",
      "Requirement already satisfied: six>=1.5 in c:\\users\\turquin\\miniconda3\\envs\\civil-426\\lib\\site-packages (from python-dateutil>=2.7->matplotlib) (1.16.0)\n",
      "Note: you may need to restart the kernel to use updated packages.\n",
      "Requirement already satisfied: scikit-learn in c:\\users\\turquin\\miniconda3\\envs\\civil-426\\lib\\site-packages (1.5.2)\n",
      "Requirement already satisfied: numpy>=1.19.5 in c:\\users\\turquin\\miniconda3\\envs\\civil-426\\lib\\site-packages (from scikit-learn) (2.0.2)\n",
      "Requirement already satisfied: scipy>=1.6.0 in c:\\users\\turquin\\miniconda3\\envs\\civil-426\\lib\\site-packages (from scikit-learn) (1.14.1)\n",
      "Requirement already satisfied: joblib>=1.2.0 in c:\\users\\turquin\\miniconda3\\envs\\civil-426\\lib\\site-packages (from scikit-learn) (1.4.2)\n",
      "Requirement already satisfied: threadpoolctl>=3.1.0 in c:\\users\\turquin\\miniconda3\\envs\\civil-426\\lib\\site-packages (from scikit-learn) (3.5.0)\n",
      "Note: you may need to restart the kernel to use updated packages.\n"
     ]
    }
   ],
   "source": [
    "# Install essential libraries for deep learning and data processing\n",
    "%pip install torch torchvision numpy tqdm\n",
    "\n",
    "# Install libraries for audio analysis and feature extraction\n",
    "%pip install librosa\n",
    "\n",
    "# Install libraries for visualization and plotting\n",
    "%pip install matplotlib\n",
    "\n",
    "# Install libraries for machine learning metrics\n",
    "%pip install scikit-learn"
   ]
  },
  {
   "cell_type": "markdown",
   "metadata": {},
   "source": [
    "## Define Auto Encoder\n"
   ]
  },
  {
   "cell_type": "code",
   "execution_count": 5,
   "metadata": {},
   "outputs": [],
   "source": [
    "import torch\n",
    "import torch.nn as nn\n",
    "import torch.optim as optim\n",
    "from sklearn.preprocessing import StandardScaler\n",
    "from sklearn.model_selection import train_test_split\n",
    "\n",
    "# Simplified Autoencoder\n",
    "class FastAutoencoder(nn.Module):\n",
    "    def __init__(self, input_dim):\n",
    "        super(FastAutoencoder, self).__init__()\n",
    "        self.encoder = nn.Sequential(\n",
    "            nn.Linear(input_dim, 128),\n",
    "            nn.ReLU(),\n",
    "            nn.Linear(128, 16),\n",
    "        )\n",
    "        self.decoder = nn.Sequential(\n",
    "            nn.Linear(16, 128),\n",
    "            nn.ReLU(),\n",
    "            nn.Linear(128, input_dim),\n",
    "        )\n",
    "\n",
    "    def forward(self, x):\n",
    "        feature = self.encoder(x)\n",
    "        reconstruction = self.decoder(feature)\n",
    "        return reconstruction, feature\n",
    "\n",
    "# Data preprocessing\n",
    "def preprocess_data_fast(df):\n",
    "    # Scale data and convert to tensor\n",
    "    scaler = StandardScaler()\n",
    "    scaled_data = scaler.fit_transform(df)\n",
    "    return torch.tensor(scaled_data, dtype=torch.float32), scaler\n",
    "\n",
    "# Optimized training loop\n",
    "def train_autoencoder_fast(model, train_data, val_data, epochs=5, batch_size=32, learning_rate=0.005):\n",
    "    train_loader = torch.utils.data.DataLoader(train_data, batch_size=batch_size, shuffle=True)\n",
    "    val_loader = torch.utils.data.DataLoader(val_data, batch_size=batch_size, shuffle=False)\n",
    "\n",
    "    criterion = nn.MSELoss()\n",
    "    optimizer = optim.Adam(model.parameters(), lr=learning_rate)\n",
    "\n",
    "    for epoch in range(epochs):\n",
    "        model.train()\n",
    "        train_loss = 0\n",
    "        for batch in train_loader:\n",
    "            optimizer.zero_grad()\n",
    "            reconstruction, _ = model(batch)\n",
    "            loss = criterion(reconstruction, batch)\n",
    "            loss.backward()\n",
    "            optimizer.step()\n",
    "            train_loss += loss.item()\n",
    "        train_loss /= len(train_loader)\n",
    "\n",
    "        model.eval()\n",
    "        val_loss = 0\n",
    "        with torch.no_grad():\n",
    "            for batch in val_loader:\n",
    "                reconstruction, _ = model(batch)\n",
    "                loss = criterion(reconstruction, batch)\n",
    "                val_loss += loss.item()\n",
    "        val_loss /= len(val_loader)\n",
    "\n",
    "        print(f\"Epoch {epoch+1}/{epochs}, Train Loss: {train_loss:.4f}, Validation Loss: {val_loss:.4f}\")\n",
    "\n",
    "    return model\n"
   ]
  },
  {
   "cell_type": "code",
   "execution_count": null,
   "metadata": {},
   "outputs": [],
   "source": [
    "\n",
    "# Preprocess u4_train_equil_turbine\n",
    "u4_train_data, scaler = preprocess_data_fast(u4_train_equil_turbine)\n",
    "\n",
    "# Train-validation split\n",
    "train_tensor, val_tensor = train_test_split(u4_train_data, test_size=0.2, random_state=42)\n",
    "\n",
    "# Initialize and train the autoencoder\n",
    "input_dim = train_tensor.shape[1]\n",
    "model = FastAutoencoder(input_dim)\n",
    "u4_turbine_trained_model = train_autoencoder_fast(model, train_tensor, val_tensor)\n"
   ]
  },
  {
   "cell_type": "code",
   "execution_count": 7,
   "metadata": {},
   "outputs": [],
   "source": [
    "# Preprocess the test data\n",
    "def preprocess_test_data(test_df, train_columns, scaler):\n",
    "    # Reindex test_df to match the columns of the training data\n",
    "    test_df = test_df.reindex(columns=train_columns, fill_value=0)\n",
    "    # Use the same scaler from the training data\n",
    "    scaled_test_data = scaler.transform(test_df)\n",
    "    return torch.tensor(scaled_test_data, dtype=torch.float32)\n",
    "\n",
    "# Evaluate reconstruction error\n",
    "def evaluate_reconstruction(model, test_data):\n",
    "    model.eval()\n",
    "    with torch.no_grad():\n",
    "        reconstruction, _ = model(test_data)\n",
    "        reconstruction_error = torch.mean((reconstruction - test_data) ** 2, dim=1)\n",
    "    return reconstruction_error\n",
    "\n",
    "\n",
    "\n",
    "\n",
    "def visualize_anomalies(reconstruction_errors, anomaly_scores, threshold):\n",
    "    \"\"\"\n",
    "    Visualize reconstruction errors and detected anomalies.\n",
    "\n",
    "    Args:\n",
    "        reconstruction_errors (torch.Tensor): Reconstruction errors for the test data.\n",
    "        anomaly_scores (torch.Tensor): Binary tensor indicating anomalies (1 for anomaly, 0 for normal).\n",
    "        threshold (float or torch.Tensor): Threshold value used for anomaly detection.\n",
    "    \"\"\"\n",
    "    # Ensure threshold is a float for consistent handling\n",
    "    if isinstance(threshold, torch.Tensor):\n",
    "        threshold = threshold.item()\n",
    "\n",
    "    plt.figure(figsize=(10, 6))\n",
    "    plt.plot(reconstruction_errors.numpy(), label=\"Reconstruction Error\")\n",
    "    plt.axhline(y=threshold, color='r', linestyle='--', label=f\"Threshold ({threshold:.4f})\")\n",
    "    plt.scatter(\n",
    "        range(len(anomaly_scores)), \n",
    "        reconstruction_errors.numpy(), \n",
    "        c=anomaly_scores.numpy(), \n",
    "        cmap='coolwarm', \n",
    "        label=\"Anomalies\"\n",
    "    )\n",
    "    plt.title(\"Reconstruction Errors and Detected Anomalies\")\n",
    "    plt.xlabel(\"Time Steps\")\n",
    "    plt.ylabel(\"Reconstruction Error\")\n",
    "    plt.legend()\n",
    "    plt.show()\n",
    "\n",
    "from sklearn.metrics import fbeta_score\n",
    "\n",
    "def define_anomaly_score(reconstruction_errors, ground_truth, beta=1.0):\n",
    "    \"\"\"\n",
    "    Define anomaly scores by maximizing the Fβ-score.\n",
    "\n",
    "    Args:\n",
    "        reconstruction_errors (torch.Tensor): The reconstruction errors for the test data.\n",
    "        ground_truth (torch.Tensor or np.ndarray): Binary ground truth labels (1 for anomaly, 0 for normal).\n",
    "        beta (float): Weighting factor for Fβ-score. β > 1 favors recall, β < 1 favors precision.\n",
    "\n",
    "    Returns:\n",
    "        torch.Tensor: Binary tensor indicating anomalies (1 for anomaly, 0 for normal).\n",
    "        float: The threshold that maximized the Fβ-score.\n",
    "        float: The best Fβ-score achieved.\n",
    "    \"\"\"\n",
    "    best_fbeta = 0\n",
    "    best_threshold = 0\n",
    "\n",
    "    # Generate thresholds across the range of reconstruction errors\n",
    "    thresholds = torch.linspace(reconstruction_errors.min(), reconstruction_errors.max(), steps=100)\n",
    "\n",
    "    for threshold in thresholds:\n",
    "        # Generate binary predictions based on the current threshold\n",
    "        anomaly_scores = (reconstruction_errors > threshold).int()\n",
    "        \n",
    "        # Compute Fβ-score\n",
    "        fbeta = fbeta_score(ground_truth, anomaly_scores.numpy(), beta=beta)\n",
    "        \n",
    "        if fbeta > best_fbeta:\n",
    "            best_fbeta = fbeta\n",
    "            best_threshold = threshold.item()  # Convert tensor to Python float\n",
    "\n",
    "    # Generate final anomaly scores using the best threshold\n",
    "    anomaly_scores = (reconstruction_errors > best_threshold).int()\n",
    "    \n",
    "    print(f\"Best Threshold: {best_threshold:.4f}, Best Fβ-Score (β={beta}): {best_fbeta:.4f}\")\n",
    "    \n",
    "    return anomaly_scores, best_threshold, best_fbeta\n"
   ]
  },
  {
   "cell_type": "code",
   "execution_count": null,
   "metadata": {},
   "outputs": [],
   "source": [
    "\n",
    "# Example usage for u4_test_equil_turbine\n",
    "# Assume `trained_model` is the autoencoder trained on u4_train_equil_turbine\n",
    "# Assume `scaler` is the StandardScaler fitted to u4_train_equil_turbine\n",
    "\n",
    "# Preprocess test data\n",
    "u4_test_data = preprocess_test_data(u4_test_equil_turbine, u4_train_equil_turbine.columns, scaler)\n",
    "\n",
    "# Evaluate reconstruction errors\n",
    "reconstruction_errors = evaluate_reconstruction(u4_turbine_trained_model, u4_test_data)\n",
    "\n",
    "# Define anomaly scores and threshold\n",
    "anomaly_scores, threshold = define_anomaly_score(reconstruction_errors)\n",
    "\n",
    "# Visualize anomalies\n",
    "visualize_anomalies(reconstruction_errors, anomaly_scores, threshold)"
   ]
  },
  {
   "cell_type": "code",
   "execution_count": null,
   "metadata": {},
   "outputs": [],
   "source": [
    "print(anomaly_scores)"
   ]
  },
  {
   "cell_type": "markdown",
   "metadata": {},
   "source": [
    "## For  u4_train_equil_pump"
   ]
  },
  {
   "cell_type": "code",
   "execution_count": null,
   "metadata": {},
   "outputs": [],
   "source": [
    "# Preprocess u4_train_equil_pump\n",
    "u4_train_pump_data, scaler = preprocess_data_fast(u4_train_equil_pump)\n",
    "\n",
    "# Train-validation split\n",
    "train_tensor, val_tensor = train_test_split(u4_train_pump_data, test_size=0.2, random_state=42)\n",
    "\n",
    "# Initialize and train the autoencoder\n",
    "input_dim = train_tensor.shape[1]\n",
    "model = FastAutoencoder(input_dim)\n",
    "u4_pump_trained_model = train_autoencoder_fast(model, train_tensor, val_tensor)\n"
   ]
  },
  {
   "cell_type": "markdown",
   "metadata": {},
   "source": [
    "#### Train on test dataset"
   ]
  },
  {
   "cell_type": "code",
   "execution_count": null,
   "metadata": {},
   "outputs": [],
   "source": [
    "# Example usage for u4_test_equil_pump\n",
    "# Assume `trained_model` is the autoencoder trained on u4_train_equil_pump\n",
    "# Assume `scaler` is the StandardScaler fitted to u4_train_equil_pump\n",
    "\n",
    "# Preprocess test data\n",
    "u4_test_pump_data = preprocess_test_data(u4_test_equil_pump, u4_train_equil_pump.columns, scaler)\n",
    "\n",
    "# Evaluate reconstruction errors\n",
    "reconstruction_errors = evaluate_reconstruction(u4_pump_trained_model, u4_test_pump_data)\n",
    "\n",
    "# Define anomaly scores and threshold\n",
    "anomaly_scores, threshold = define_anomaly_score(reconstruction_errors)\n",
    "\n",
    "# Visualize anomalies\n",
    "visualize_anomalies(reconstruction_errors, anomaly_scores, threshold)\n"
   ]
  },
  {
   "cell_type": "markdown",
   "metadata": {},
   "source": [
    "## For u5_train_equil_turbine\n"
   ]
  },
  {
   "cell_type": "code",
   "execution_count": null,
   "metadata": {},
   "outputs": [],
   "source": [
    "# # Preprocess u5_train_equil_turbine\n",
    "# u5_train_turbine_data, scaler = preprocess_data_fast(u5_train_equil_turbine)\n",
    "\n",
    "# # Train-validation split\n",
    "# train_tensor, val_tensor = train_test_split(u5_train_turbine_data, test_size=0.2, random_state=42)\n",
    "\n",
    "# # Initialize and train the autoencoder\n",
    "# input_dim = train_tensor.shape[1]\n",
    "# model = FastAutoencoder(input_dim)\n",
    "# u5_turbine_trained_model = train_autoencoder_fast(model, train_tensor, val_tensor)"
   ]
  },
  {
   "cell_type": "code",
   "execution_count": 8,
   "metadata": {},
   "outputs": [
    {
     "name": "stdout",
     "output_type": "stream",
     "text": [
      "Epoch 1/5, Train Loss: 0.0902, Validation Loss: 0.1340\n",
      "Epoch 2/5, Train Loss: 0.0847, Validation Loss: 0.0545\n",
      "Epoch 3/5, Train Loss: 0.1509, Validation Loss: 0.1820\n",
      "Epoch 4/5, Train Loss: 0.1606, Validation Loss: 0.1442\n",
      "Epoch 5/5, Train Loss: 0.1585, Validation Loss: 0.1557\n"
     ]
    }
   ],
   "source": [
    "\n",
    "# Preprocess u5_train_equil_turbine with scaler validation\n",
    "scaler = StandardScaler()  # Initialize scaler\n",
    "u5_train_turbine_scaled = scaler.fit_transform(u5_train_equil_turbine)  # Fit scaler and transform data\n",
    "u5_train_turbine_data = torch.tensor(u5_train_turbine_scaled, dtype=torch.float32)  # Convert to tensor\n",
    "\n",
    "# Train-validation split\n",
    "train_tensor, val_tensor = train_test_split(u5_train_turbine_data, test_size=0.2, random_state=42)\n",
    "\n",
    "# Initialize and train the autoencoder\n",
    "input_dim = train_tensor.shape[1]\n",
    "model = FastAutoencoder(input_dim)\n",
    "u5_turbine_trained_model = train_autoencoder_fast(model, train_tensor, val_tensor)\n"
   ]
  },
  {
   "cell_type": "markdown",
   "metadata": {},
   "source": [
    "#### for synthetic anomalies : s01"
   ]
  },
  {
   "cell_type": "code",
   "execution_count": 15,
   "metadata": {},
   "outputs": [
    {
     "name": "stdout",
     "output_type": "stream",
     "text": [
      "Best Threshold: 0.0131, Best Fβ-Score (β=0.05): 0.6627\n"
     ]
    },
    {
     "data": {
      "image/png": "[encoded data removed]",
      "text/plain": [
       "<Figure size 1000x600 with 1 Axes>"
      ]
     },
     "metadata": {},
     "output_type": "display_data"
    }
   ],
   "source": [
    "# Example usage for u5_s01_equil_turbine\n",
    "# Assume `u5_turbine_trained_model` is the autoencoder trained on u5_train_equil_turbine\n",
    "# Assume `scaler` is the StandardScaler fitted to u5_train_equil_turbine during training\n",
    "\n",
    "# Ensure that the columns in the test data match the training data\n",
    "u5_s01_turbine_data_preprocessed = preprocess_test_data(u5_s01_equil_turbine, u5_train_equil_turbine.columns, scaler)\n",
    "\n",
    "ground_truth = u5_s01_equil_turbine['anomaly']  # Replace 'anomaly' with the actual column name\n",
    "\n",
    "# Evaluate reconstruction errors\n",
    "reconstruction_errors = evaluate_reconstruction(u5_turbine_trained_model, u5_s01_turbine_data_preprocessed)\n",
    "\n",
    "# Define anomaly scores and threshold\n",
    "anomaly_scores, best_threshold, best_f1 = define_anomaly_score(reconstruction_errors, ground_truth, beta=0.05)\n",
    "detected_anomalies = anomaly_scores  # Use the previously calculated anomaly scores\n",
    "threshold = best_threshold  # Use the previously calculated threshold (already a float)\n",
    "\n",
    "\n",
    "# Visualize anomalies\n",
    "visualize_anomalies(reconstruction_errors, anomaly_scores, threshold)\n"
   ]
  },
  {
   "cell_type": "code",
   "execution_count": null,
   "metadata": {},
   "outputs": [],
   "source": []
  },
  {
   "cell_type": "code",
   "execution_count": 16,
   "metadata": {},
   "outputs": [
    {
     "name": "stdout",
     "output_type": "stream",
     "text": [
      "Accuracy: 0.66\n"
     ]
    }
   ],
   "source": [
    "# Assuming `anomaly_scores` is already calculated in the previous cells\n",
    "ground_truth = u5_s01_equil_turbine['anomaly']  # Replace 'anomaly' with the actual column name\n",
    "detected_anomalies = anomaly_scores  # Use the previously calculated anomaly scores\n",
    "accuracy = accuracy_score(ground_truth, detected_anomalies)\n",
    "print(f\"Accuracy: {accuracy:.2f}\")"
   ]
  },
  {
   "cell_type": "code",
   "execution_count": 13,
   "metadata": {},
   "outputs": [
    {
     "name": "stdout",
     "output_type": "stream",
     "text": [
      "Precision: 0.66\n",
      "Recall: 1.00\n",
      "F1-Score: 0.80\n"
     ]
    }
   ],
   "source": [
    "\n",
    "# Assuming ground_truth is a binary array (1 for anomaly, 0 for normal) from the synthetic info file\n",
    "# Replace 'anomaly' with the actual column name containing the labels\n",
    "ground_truth = u5_s01_equil_turbine['anomaly'].values\n",
    "\n",
    "# Detected anomalies (binary array where 1 indicates an anomaly and 0 indicates normal)\n",
    "detected_anomalies = (reconstruction_errors > threshold).int()\n",
    "\n",
    "# Calculate Precision, Recall, and F1-Score\n",
    "precision = precision_score(ground_truth, detected_anomalies)\n",
    "recall = recall_score(ground_truth, detected_anomalies)\n",
    "f1 = f1_score(ground_truth, detected_anomalies)\n",
    "\n",
    "print(f\"Precision: {precision:.2f}\")\n",
    "print(f\"Recall: {recall:.2f}\")\n",
    "print(f\"F1-Score: {f1:.2f}\")\n"
   ]
  },
  {
   "cell_type": "code",
   "execution_count": 14,
   "metadata": {},
   "outputs": [
    {
     "data": {
      "image/png": "[encoded data removed]",
      "text/plain": [
       "<Figure size 800x600 with 2 Axes>"
      ]
     },
     "metadata": {},
     "output_type": "display_data"
    }
   ],
   "source": [
    "# Compute the confusion matrix\n",
    "conf_matrix = confusion_matrix(ground_truth, detected_anomalies)\n",
    "\n",
    "# Plot the confusion matrix using seaborn\n",
    "plt.figure(figsize=(8, 6))\n",
    "sns.heatmap(conf_matrix, annot=True, fmt=\"d\", cmap=\"Blues\", xticklabels=[\"Normal\", \"Anomaly\"], yticklabels=[\"Normal\", \"Anomaly\"])\n",
    "plt.title(\"Confusion Matrix\")\n",
    "plt.xlabel(\"Predicted Labels\")\n",
    "plt.ylabel(\"True Labels\")\n",
    "plt.show()\n"
   ]
  },
  {
   "cell_type": "code",
   "execution_count": null,
   "metadata": {},
   "outputs": [],
   "source": [
    "# Compute the ROC curve and AUC score\n",
    "fpr, tpr, thresholds = roc_curve(ground_truth, reconstruction_errors)\n",
    "roc_auc = roc_auc_score(ground_truth, reconstruction_errors)\n",
    "\n",
    "# Plot the ROC curve\n",
    "plt.figure(figsize=(8, 6))\n",
    "plt.plot(fpr, tpr, color='blue', label=f\"ROC Curve (AUC = {roc_auc:.2f})\")\n",
    "plt.plot([0, 1], [0, 1], color='gray', linestyle='--', label=\"Random Guess\")\n",
    "plt.title(\"Receiver Operating Characteristic (ROC) Curve\")\n",
    "plt.xlabel(\"False Positive Rate\")\n",
    "plt.ylabel(\"True Positive Rate (Recall)\")\n",
    "plt.legend(loc=\"lower right\")\n",
    "plt.grid()\n",
    "plt.show()\n"
   ]
  },
  {
   "cell_type": "markdown",
   "metadata": {},
   "source": [
    "#### for synthetic anomaly s02 :"
   ]
  },
  {
   "cell_type": "code",
   "execution_count": null,
   "metadata": {},
   "outputs": [],
   "source": [
    "# Example usage for u5_s02_equil_turbine\n",
    "# Assume `u5_turbine_trained_model` is the autoencoder trained on u5_train_equil_turbine\n",
    "# Assume `scaler` is the StandardScaler fitted to u5_train_equil_turbine during training\n",
    "\n",
    "# Ensure that the columns in the test data match the training data\n",
    "u5_s02_turbine_data_preprocessed = preprocess_test_data(u5_s02_equil_turbine, u5_train_equil_turbine.columns, scaler)\n",
    "\n",
    "# Evaluate reconstruction errors\n",
    "reconstruction_errors = evaluate_reconstruction(u5_turbine_trained_model, u5_s02_turbine_data_preprocessed)\n",
    "\n",
    "# Define anomaly scores and threshold\n",
    "anomaly_scores, threshold = define_anomaly_score(reconstruction_errors)\n",
    "\n",
    "# Visualize anomalies\n",
    "visualize_anomalies(reconstruction_errors, anomaly_scores, threshold)\n"
   ]
  },
  {
   "cell_type": "code",
   "execution_count": null,
   "metadata": {},
   "outputs": [],
   "source": [
    "# Assuming `anomaly_scores` is already calculated in the previous cells\n",
    "ground_truth_u5_s02_T = u5_s02_equil_turbine['anomaly']  # Replace 'anomaly' with the actual column name\n",
    "detected_anomalies_u5_s02_T = anomaly_scores  # Use the previously calculated anomaly scores\n",
    "accuracy_u5_s02_T = accuracy_score(ground_truth_u5_s02_T, detected_anomalies_u5_s02_T)\n",
    "print(f\"Accuracy: {accuracy_u5_s02_T:.2f}\")"
   ]
  },
  {
   "cell_type": "code",
   "execution_count": null,
   "metadata": {},
   "outputs": [],
   "source": [
    "\n",
    "# Assuming ground_truth is a binary array (1 for anomaly, 0 for normal) from the synthetic info file\n",
    "# Replace 'anomaly' with the actual column name containing the labels\n",
    "ground_truth_u5_s02_T = u5_s02_equil_turbine['anomaly'].values\n",
    "\n",
    "# Detected anomalies (binary array where 1 indicates an anomaly and 0 indicates normal)\n",
    "detected_anomalies_u5_s02_T = (reconstruction_errors > threshold).int()\n",
    "\n",
    "# Calculate Precision, Recall, and F1-Score\n",
    "precision_u5_s02_T = precision_score(ground_truth_u5_s02_T, detected_anomalies_u5_s02_T)\n",
    "recall_u5_s02_T = recall_score(ground_truth_u5_s02_T, detected_anomalies_u5_s02_T)\n",
    "f1_u5_s02_T = f1_score(ground_truth_u5_s02_T, detected_anomalies_u5_s02_T)\n",
    "\n",
    "print(f\"Precision: {precision_u5_s02_T:.2f}\")\n",
    "print(f\"Recall: {recall_u5_s02_T:.2f}\")\n",
    "print(f\"F1-Score: {f1_u5_s02_T:.2f}\")\n"
   ]
  },
  {
   "cell_type": "code",
   "execution_count": null,
   "metadata": {},
   "outputs": [],
   "source": [
    "# Compute the confusion matrix\n",
    "conf_matrix = confusion_matrix(ground_truth_u5_s02_T, detected_anomalies_u5_s02_T)\n",
    "\n",
    "# Plot the confusion matrix using seaborn\n",
    "plt.figure(figsize=(8, 6))\n",
    "sns.heatmap(conf_matrix, annot=True, fmt=\"d\", cmap=\"Blues\", xticklabels=[\"Normal\", \"Anomaly\"], yticklabels=[\"Normal\", \"Anomaly\"])\n",
    "plt.title(\"Confusion Matrix\")\n",
    "plt.xlabel(\"Predicted Labels\")\n",
    "plt.ylabel(\"True Labels\")\n",
    "plt.show()\n"
   ]
  },
  {
   "cell_type": "code",
   "execution_count": null,
   "metadata": {},
   "outputs": [],
   "source": [
    "# Compute the ROC curve and AUC score\n",
    "fpr, tpr, thresholds = roc_curve(ground_truth_u5_s02_T, reconstruction_errors)\n",
    "roc_auc = roc_auc_score(ground_truth_u5_s02_T, reconstruction_errors)\n",
    "\n",
    "# Plot the ROC curve\n",
    "plt.figure(figsize=(8, 6))\n",
    "plt.plot(fpr, tpr, color='blue', label=f\"ROC Curve (AUC = {roc_auc:.2f})\")\n",
    "plt.plot([0, 1], [0, 1], color='gray', linestyle='--', label=\"Random Guess\")\n",
    "plt.title(\"Receiver Operating Characteristic (ROC) Curve\")\n",
    "plt.xlabel(\"False Positive Rate\")\n",
    "plt.ylabel(\"True Positive Rate (Recall)\")\n",
    "plt.legend(loc=\"lower right\")\n",
    "plt.grid()\n",
    "plt.show()\n"
   ]
  },
  {
   "cell_type": "markdown",
   "metadata": {},
   "source": [
    "#### for test anomalies : "
   ]
  },
  {
   "cell_type": "code",
   "execution_count": null,
   "metadata": {},
   "outputs": [],
   "source": [
    "# Example usage for u5_test_equil_turbine\n",
    "# Assume `u5_turbine_trained_model` is the autoencoder trained on u5_train_equil_turbine\n",
    "# Assume `scaler` is the StandardScaler fitted to u5_train_equil_turbine during training\n",
    "\n",
    "# Ensure that the columns in the test data match the training data\n",
    "u5_test_turbine_data_preprocessed = preprocess_test_data(u5_test_equil_turbine, u5_train_equil_turbine.columns, scaler)\n",
    "\n",
    "# Evaluate reconstruction errors\n",
    "reconstruction_errors = evaluate_reconstruction(u5_turbine_trained_model, u5_test_turbine_data_preprocessed)\n",
    "\n",
    "# Define anomaly scores and threshold\n",
    "anomaly_scores, threshold = define_anomaly_score(reconstruction_errors)\n",
    "\n",
    "# Visualize anomalies\n",
    "visualize_anomalies(reconstruction_errors, anomaly_scores, threshold)\n"
   ]
  },
  {
   "cell_type": "markdown",
   "metadata": {},
   "source": [
    "## for u5_train_equil_Pump "
   ]
  },
  {
   "cell_type": "code",
   "execution_count": null,
   "metadata": {},
   "outputs": [],
   "source": [
    "# Preprocess u5_train_equil_pump\n",
    "u5_train_pump_data, scaler = preprocess_data_fast(u5_train_equil_pump)\n",
    "\n",
    "# Train-validation split\n",
    "train_tensor, val_tensor = train_test_split(u5_train_pump_data, test_size=0.2, random_state=42)\n",
    "\n",
    "# Initialize and train the autoencoder\n",
    "input_dim = train_tensor.shape[1]\n",
    "model = FastAutoencoder(input_dim)\n",
    "u5_pump_trained_model = train_autoencoder_fast(model, train_tensor, val_tensor)"
   ]
  },
  {
   "cell_type": "markdown",
   "metadata": {},
   "source": [
    "#### For Synthetic anomaly s01"
   ]
  },
  {
   "cell_type": "code",
   "execution_count": null,
   "metadata": {},
   "outputs": [],
   "source": [
    "# Example usage for u5_s01_equil_pump\n",
    "# Assume `u5_pump_trained_model` is the autoencoder trained on u5_train_equil_pump\n",
    "# Assume `scaler` is the StandardScaler fitted to u5_train_equil_pump during training\n",
    "\n",
    "# Ensure that the columns in the test data match the training data\n",
    "u5_s01_pump_data_preprocessed = preprocess_test_data(u5_s01_equil_pump, u5_train_equil_pump.columns, scaler)\n",
    "\n",
    "# Evaluate reconstruction errors\n",
    "reconstruction_errors = evaluate_reconstruction(u5_pump_trained_model, u5_s01_pump_data_preprocessed)\n",
    "\n",
    "# Define anomaly scores and threshold\n",
    "anomaly_scores, threshold = define_anomaly_score(reconstruction_errors)\n",
    "\n",
    "# Visualize anomalies\n",
    "visualize_anomalies(reconstruction_errors, anomaly_scores, threshold)\n"
   ]
  },
  {
   "cell_type": "markdown",
   "metadata": {},
   "source": [
    "#### for synthetic anomalies s02 : "
   ]
  },
  {
   "cell_type": "code",
   "execution_count": null,
   "metadata": {},
   "outputs": [],
   "source": [
    "# Example usage for u5_s02_equil_pump\n",
    "# Assume `u5_pump_trained_model` is the autoencoder trained on u5_train_equil_pump\n",
    "# Assume `scaler` is the StandardScaler fitted to u5_train_equil_pump during training\n",
    "\n",
    "# Ensure that the columns in the test data match the training data\n",
    "u5_s02_pump_data_preprocessed = preprocess_test_data(u5_s02_equil_pump, u5_train_equil_pump.columns, scaler)\n",
    "\n",
    "# Evaluate reconstruction errors\n",
    "reconstruction_errors = evaluate_reconstruction(u5_pump_trained_model, u5_s02_pump_data_preprocessed)\n",
    "\n",
    "# Define anomaly scores and threshold\n",
    "anomaly_scores, threshold = define_anomaly_score(reconstruction_errors)\n",
    "\n",
    "# Visualize anomalies\n",
    "visualize_anomalies(reconstruction_errors, anomaly_scores, threshold)\n"
   ]
  },
  {
   "cell_type": "markdown",
   "metadata": {},
   "source": [
    "#### For Test data set "
   ]
  },
  {
   "cell_type": "code",
   "execution_count": null,
   "metadata": {},
   "outputs": [],
   "source": [
    "# Example usage for u5_test_equil_pump\n",
    "# Assume `u5_pump_trained_model` is the autoencoder trained on u5_train_equil_pump\n",
    "# Assume `scaler` is the StandardScaler fitted to u5_train_equil_pump during training\n",
    "\n",
    "# Ensure that the columns in the test data match the training data\n",
    "u5_test_pump_data_preprocessed = preprocess_test_data(u5_test_equil_pump, u5_train_equil_pump.columns, scaler)\n",
    "\n",
    "# Evaluate reconstruction errors\n",
    "reconstruction_errors = evaluate_reconstruction(u5_pump_trained_model, u5_test_pump_data_preprocessed)\n",
    "\n",
    "# Define anomaly scores and threshold\n",
    "anomaly_scores, threshold = define_anomaly_score(reconstruction_errors)\n",
    "\n",
    "# Visualize anomalies\n",
    "visualize_anomalies(reconstruction_errors, anomaly_scores, threshold)\n"
   ]
  },
  {
   "cell_type": "markdown",
   "metadata": {},
   "source": [
    "## For u6_train_equil_turbine"
   ]
  },
  {
   "cell_type": "code",
   "execution_count": null,
   "metadata": {},
   "outputs": [],
   "source": [
    "# Preprocess u6_train_equil_turbine\n",
    "u6_train_turbine_data, scaler = preprocess_data_fast(u6_train_equil_turbine)\n",
    "\n",
    "# Train-validation split\n",
    "train_tensor, val_tensor = train_test_split(u6_train_turbine_data, test_size=0.2, random_state=42)\n",
    "\n",
    "# Initialize and train the autoencoder\n",
    "input_dim = train_tensor.shape[1]\n",
    "model = FastAutoencoder(input_dim)\n",
    "u6_turbine_trained_model = train_autoencoder_fast(model, train_tensor, val_tensor)"
   ]
  },
  {
   "cell_type": "markdown",
   "metadata": {},
   "source": [
    "#### Synthetic anomaly s01 :"
   ]
  },
  {
   "cell_type": "code",
   "execution_count": null,
   "metadata": {},
   "outputs": [],
   "source": [
    "# Example usage for u6_s01_equil_turbine\n",
    "# Assume `u6_turbine_trained_model` is the autoencoder trained on u6_train_equil_turbine\n",
    "# Assume `scaler` is the StandardScaler fitted to u6_train_equil_turbine during training\n",
    "\n",
    "# Ensure that the columns in the test data match the training data\n",
    "u6_s01_turbine_data_preprocessed = preprocess_test_data(u6_s01_equil_turbine, u6_train_equil_turbine.columns, scaler)\n",
    "\n",
    "# Evaluate reconstruction errors\n",
    "reconstruction_errors = evaluate_reconstruction(u6_turbine_trained_model, u6_s01_turbine_data_preprocessed)\n",
    "\n",
    "# Define anomaly scores and threshold\n",
    "anomaly_scores, threshold = define_anomaly_score(reconstruction_errors)\n",
    "\n",
    "# Visualize anomalies\n",
    "visualize_anomalies(reconstruction_errors, anomaly_scores, threshold)\n"
   ]
  },
  {
   "cell_type": "markdown",
   "metadata": {},
   "source": [
    "#### Synthetic anomaly s02 : "
   ]
  },
  {
   "cell_type": "code",
   "execution_count": null,
   "metadata": {},
   "outputs": [],
   "source": [
    "# Example usage for u6_s02_equil_turbine\n",
    "# Assume `u6_turbine_trained_model` is the autoencoder trained on u6_train_equil_turbine\n",
    "# Assume `scaler` is the StandardScaler fitted to u6_train_equil_turbine during training\n",
    "\n",
    "# Ensure that the columns in the test data match the training data\n",
    "u6_s02_turbine_data_preprocessed = preprocess_test_data(u6_s02_equil_turbine, u6_train_equil_turbine.columns, scaler)\n",
    "\n",
    "# Evaluate reconstruction errors\n",
    "reconstruction_errors = evaluate_reconstruction(u6_turbine_trained_model, u6_s02_turbine_data_preprocessed)\n",
    "\n",
    "# Define anomaly scores and threshold\n",
    "anomaly_scores, threshold = define_anomaly_score(reconstruction_errors)\n",
    "\n",
    "# Visualize anomalies\n",
    "visualize_anomalies(reconstruction_errors, anomaly_scores, threshold)"
   ]
  },
  {
   "cell_type": "markdown",
   "metadata": {},
   "source": [
    "#### For Test data set : "
   ]
  },
  {
   "cell_type": "code",
   "execution_count": null,
   "metadata": {},
   "outputs": [],
   "source": [
    "# Example usage for u6_test_equil_turbine\n",
    "# Assume `u6_turbine_trained_model` is the autoencoder trained on u6_train_equil_turbine\n",
    "# Assume `scaler` is the StandardScaler fitted to u6_train_equil_turbine during training\n",
    "\n",
    "# Ensure that the columns in the test data match the training data\n",
    "u6_test_turbine_data_preprocessed = preprocess_test_data(u6_test_equil_turbine, u6_train_equil_turbine.columns, scaler)\n",
    "\n",
    "# Evaluate reconstruction errors\n",
    "reconstruction_errors = evaluate_reconstruction(u6_turbine_trained_model, u6_test_turbine_data_preprocessed)\n",
    "\n",
    "# Define anomaly scores and threshold\n",
    "anomaly_scores, threshold = define_anomaly_score(reconstruction_errors)\n",
    "\n",
    "# Visualize anomalies\n",
    "visualize_anomalies(reconstruction_errors, anomaly_scores, threshold)"
   ]
  },
  {
   "cell_type": "markdown",
   "metadata": {},
   "source": [
    "#### for u6_train_equil_pump"
   ]
  },
  {
   "cell_type": "code",
   "execution_count": null,
   "metadata": {},
   "outputs": [],
   "source": [
    "# Preprocess u6_train_equil_pump\n",
    "u6_train_pump_data, scaler = preprocess_data_fast(u6_train_equil_pump)\n",
    "\n",
    "# Train-validation split\n",
    "train_tensor, val_tensor = train_test_split(u6_train_pump_data, test_size=0.2, random_state=42)\n",
    "\n",
    "# Initialize and train the autoencoder\n",
    "input_dim = train_tensor.shape[1]\n",
    "model = FastAutoencoder(input_dim)\n",
    "u6_pump_trained_model = train_autoencoder_fast(model, train_tensor, val_tensor)"
   ]
  },
  {
   "cell_type": "markdown",
   "metadata": {},
   "source": [
    "#### for synthetic anomaly s01 : "
   ]
  },
  {
   "cell_type": "code",
   "execution_count": null,
   "metadata": {},
   "outputs": [],
   "source": [
    "# Example usage for u6_s01_equil_pump\n",
    "# Assume `u6_pump_trained_model` is the autoencoder trained on u6_train_equil_pump\n",
    "# Assume `scaler` is the StandardScaler fitted to u6_train_equil_pump during training\n",
    "\n",
    "# Ensure that the columns in the test data match the training data\n",
    "u6_s01_pump_data_preprocessed = preprocess_test_data(u6_s01_equil_pump, u6_train_equil_pump.columns, scaler)\n",
    "\n",
    "# Evaluate reconstruction errors\n",
    "reconstruction_errors = evaluate_reconstruction(u6_pump_trained_model, u6_s01_pump_data_preprocessed)\n",
    "\n",
    "# Define anomaly scores and threshold\n",
    "anomaly_scores, threshold = define_anomaly_score(reconstruction_errors)\n",
    "\n",
    "# Visualize anomalies\n",
    "visualize_anomalies(reconstruction_errors, anomaly_scores, threshold)\n"
   ]
  },
  {
   "cell_type": "markdown",
   "metadata": {},
   "source": [
    "#### for synthetic anomaly s02 :"
   ]
  },
  {
   "cell_type": "code",
   "execution_count": null,
   "metadata": {},
   "outputs": [],
   "source": [
    "# Example usage for u6_s02_equil_pump\n",
    "# Assume `u6_pump_trained_model` is the autoencoder trained on u6_train_equil_pump\n",
    "# Assume `scaler` is the StandardScaler fitted to u6_train_equil_pump during training\n",
    "\n",
    "# Ensure that the columns in the test data match the training data\n",
    "u6_s02_pump_data_preprocessed = preprocess_test_data(u6_s02_equil_pump, u6_train_equil_pump.columns, scaler)\n",
    "\n",
    "# Evaluate reconstruction errors\n",
    "reconstruction_errors = evaluate_reconstruction(u6_pump_trained_model, u6_s02_pump_data_preprocessed)\n",
    "\n",
    "# Define anomaly scores and threshold\n",
    "anomaly_scores, threshold = define_anomaly_score(reconstruction_errors)\n",
    "\n",
    "# Visualize anomalies\n",
    "visualize_anomalies(reconstruction_errors, anomaly_scores, threshold)\n"
   ]
  },
  {
   "cell_type": "markdown",
   "metadata": {},
   "source": [
    "#### for Test dataset: \n"
   ]
  },
  {
   "cell_type": "code",
   "execution_count": null,
   "metadata": {},
   "outputs": [],
   "source": [
    "# Example usage for u6_test_equil_pump\n",
    "# Assume `u6_pump_trained_model` is the autoencoder trained on u6_train_equil_pump\n",
    "# Assume `scaler` is the StandardScaler fitted to u6_train_equil_pump during training\n",
    "\n",
    "# Ensure that the columns in the test data match the training data\n",
    "u6_test_pump_data_preprocessed = preprocess_test_data(u6_test_equil_pump, u6_train_equil_pump.columns, scaler)\n",
    "\n",
    "# Evaluate reconstruction errors\n",
    "reconstruction_errors = evaluate_reconstruction(u6_pump_trained_model, u6_test_pump_data_preprocessed)\n",
    "\n",
    "# Define anomaly scores and threshold\n",
    "anomaly_scores, threshold = define_anomaly_score(reconstruction_errors)\n",
    "\n",
    "# Visualize anomalies\n",
    "visualize_anomalies(reconstruction_errors, anomaly_scores, threshold)\n"
   ]
  },
  {
   "cell_type": "markdown",
   "metadata": {},
   "source": [
    "Tries with raw features...\n"
   ]
  },
  {
   "cell_type": "code",
   "execution_count": null,
   "metadata": {},
   "outputs": [],
   "source": [
    "import matplotlib.pyplot as plt\n",
    "\n",
    "# Define the time step of the anomaly and a window around it\n",
    "anomaly_time_step = 10000  # Replace this with the actual index of the spike\n",
    "window_size = 200  # Number of time steps before and after the anomaly\n",
    "start_idx = max(0, anomaly_time_step - window_size)\n",
    "end_idx = anomaly_time_step + window_size\n",
    "\n",
    "# Extract the raw features from the test dataset\n",
    "raw_features = u6_s01_equil_pump.iloc[start_idx:end_idx]  # Adjust the dataset name if necessary\n",
    "\n",
    "# Plot raw features\n",
    "plt.figure(figsize=(12, 8))\n",
    "for column in raw_features.columns:\n",
    "    plt.plot(raw_features.index, raw_features[column], label=column)\n",
    "\n",
    "plt.title(f\"Raw Sensor Data Around Anomaly at Time Step {anomaly_time_step}\")\n",
    "plt.xlabel(\"Time Steps\")\n",
    "plt.ylabel(\"Sensor Values\")\n",
    "plt.legend(loc=\"upper right\", bbox_to_anchor=(1.2, 1.0))\n",
    "plt.show()\n"
   ]
  },
  {
   "cell_type": "markdown",
   "metadata": {},
   "source": [
    "#### identify significant features : "
   ]
  },
  {
   "cell_type": "code",
   "execution_count": null,
   "metadata": {},
   "outputs": [],
   "source": [
    "# Calculate feature-wise reconstruction error for the anomaly\n",
    "def feature_reconstruction_error(raw_data, reconstruction):\n",
    "    errors = (raw_data - reconstruction) ** 2  # Element-wise squared error\n",
    "    mean_feature_errors = errors.mean(axis=0)  # Average error per feature\n",
    "    return mean_feature_errors\n",
    "\n",
    "# Assuming raw_features is already preprocessed as a tensor\n",
    "reconstruction, _ = u6_pump_trained_model(u6_s01_pump_data_preprocessed)\n",
    "feature_errors = feature_reconstruction_error(u6_s01_pump_data_preprocessed, reconstruction)\n",
    "\n",
    "# Sort and display the most important features\n",
    "significant_features = feature_errors.argsort(descending=True)[:5]  # Top 5 contributing features\n",
    "print(\"Top Contributing Features:\")\n",
    "print(u6_s01_equil_pump.columns[significant_features])\n"
   ]
  },
  {
   "cell_type": "code",
   "execution_count": null,
   "metadata": {},
   "outputs": [],
   "source": [
    "#Focus on those features : \n",
    "\n",
    "# Convert significant_features to a list of integers\n",
    "significant_features = significant_features.tolist()\n",
    "\n",
    "# Plot only the significant features\n",
    "plt.figure(figsize=(12, 6))\n",
    "for column in significant_features:\n",
    "    plt.plot(raw_features.index, raw_features.iloc[:, column], label=raw_features.columns[column])\n",
    "\n",
    "plt.title(f\"Key Features Around Anomaly at Time Step {anomaly_time_step}\")\n",
    "plt.xlabel(\"Time Steps\")\n",
    "plt.ylabel(\"Sensor Values\")\n",
    "plt.legend(loc=\"upper right\", bbox_to_anchor=(1.2, 1.0))\n",
    "plt.show()\n"
   ]
  },
  {
   "cell_type": "markdown",
   "metadata": {},
   "source": [
    "#### Let's plot all the water_circ_... : why ?I don't knw, but why not.... "
   ]
  },
  {
   "cell_type": "code",
   "execution_count": null,
   "metadata": {},
   "outputs": [],
   "source": [
    "# Define the anomaly time step and window size\n",
    "anomaly_time_step = 10000  # Replace with the exact time step\n",
    "narrow_window_size = 200  # Adjust if needed\n",
    "start_idx = max(0, anomaly_time_step - narrow_window_size)\n",
    "end_idx = anomaly_time_step + narrow_window_size\n",
    "\n",
    "# Filter features with \"water_circ_hot_\" in their names\n",
    "water_circ_hot_columns = [col for col in u6_s01_equil_pump.columns if \"water_circ_hot_\" in col]\n",
    "\n",
    "# Extract data for these features within the specified time window\n",
    "water_circ_hot_data = u6_s01_equil_pump.iloc[start_idx:end_idx][water_circ_hot_columns]\n",
    "\n",
    "# Plot the features\n",
    "plt.figure(figsize=(12, 6))\n",
    "for col in water_circ_hot_columns:\n",
    "    plt.plot(water_circ_hot_data.index, water_circ_hot_data[col], label=col)\n",
    "\n",
    "plt.title(f\"Water Circulation Hot Features Around Anomaly at Time Step {anomaly_time_step}\")\n",
    "plt.xlabel(\"Time Steps\")\n",
    "plt.ylabel(\"Sensor Values\")\n",
    "plt.legend(loc=\"upper right\", bbox_to_anchor=(1.2, 1.0))\n",
    "plt.show()\n"
   ]
  }
 ],
 "metadata": {
  "kernelspec": {
   "display_name": "civil-426",
   "language": "python",
   "name": "python3"
  },
  "language_info": {
   "codemirror_mode": {
    "name": "ipython",
    "version": 3
   },
   "file_extension": ".py",
   "mimetype": "text/x-python",
   "name": "python",
   "nbconvert_exporter": "python",
   "pygments_lexer": "ipython3",
   "version": "3.12.5"
  }
 },
 "nbformat": 4,
 "nbformat_minor": 2
}
